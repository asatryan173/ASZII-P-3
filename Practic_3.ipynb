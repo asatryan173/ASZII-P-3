{
  "nbformat": 4,
  "nbformat_minor": 0,
  "metadata": {
    "colab": {
      "provenance": []
    },
    "kernelspec": {
      "name": "python3",
      "display_name": "Python 3"
    },
    "language_info": {
      "name": "python"
    }
  },
  "cells": [
    {
      "cell_type": "markdown",
      "source": [
        "# Практика 3: Атака Carlini-Wagner (CW) на модели ИИ\n",
        "# Выполнил студент: Асатрян Давид Робертовись Группа: ББМО-01-23\n",
        "\n",
        "**Цель** задания:\n",
        "Изучить одну из наиболее мощных атак на модели ИИ — атаку Carlini-Wagner (CW). Задача — научиться использовать CW для создания противоречивых примеров и исследовать влияние этой атаки на обученные модели.\n",
        "\n",
        "# Задачи:\n",
        "Загрузить ранее обученную модель на датасете MNIST.\n",
        "Изучить теоретические основы атаки Carlini-Wagner.\n",
        "Реализовать атаку CW с помощью фреймворка Foolbox.\n",
        "Оценить точность модели на противоречивых примерах и сравнить с результатами на обычных данных.\n"
      ],
      "metadata": {
        "id": "7WFownmbZYSF"
      }
    },
    {
      "cell_type": "markdown",
      "source": [
        "Шаг 1. Загрузка обученной модели и данных MNIST"
      ],
      "metadata": {
        "id": "eGG-CChLaWY0"
      }
    },
    {
      "cell_type": "code",
      "execution_count": 6,
      "metadata": {
        "colab": {
          "base_uri": "https://localhost:8080/"
        },
        "id": "yiNTycWrX-XB",
        "outputId": "67e8112d-1ab4-4474-8c37-119cd2b5446e"
      },
      "outputs": [
        {
          "output_type": "stream",
          "name": "stderr",
          "text": [
            "WARNING:absl:Compiled the loaded model, but the compiled metrics have yet to be built. `model.compile_metrics` will be empty until you train or evaluate the model.\n"
          ]
        },
        {
          "output_type": "stream",
          "name": "stdout",
          "text": [
            "\u001b[1m313/313\u001b[0m \u001b[32m━━━━━━━━━━━━━━━━━━━━\u001b[0m\u001b[37m\u001b[0m \u001b[1m1s\u001b[0m 1ms/step - accuracy: 0.9710 - loss: 0.1051\n",
            "Test accuracy on clean images: 0.9746999740600586\n"
          ]
        }
      ],
      "source": [
        "import tensorflow as tf\n",
        "from tensorflow.keras.datasets import mnist\n",
        "from tensorflow.keras.utils import to_categorical\n",
        "import foolbox as fb\n",
        "import numpy as np\n",
        "import matplotlib.pyplot as plt\n",
        "\n",
        "\n",
        "(_, _), (test_images, test_labels) = mnist.load_data()\n",
        "\n",
        "test_images = test_images / 255.0\n",
        "\n",
        "test_labels = to_categorical(test_labels, num_classes=10)\n",
        "\n",
        "model = tf.keras.models.load_model('/content/mnist_model.h5')\n",
        "\n",
        "test_loss, test_acc = model.evaluate(test_images, test_labels)\n",
        "print(f'Test accuracy on clean images: {test_acc}')"
      ]
    },
    {
      "cell_type": "markdown",
      "source": [
        "Шаг 2: Установка необходимых библиотек и импорт библиотек"
      ],
      "metadata": {
        "id": "om4AJ8eAaVX9"
      }
    },
    {
      "cell_type": "code",
      "source": [
        "!pip install tensorflow foolbox matplotlib"
      ],
      "metadata": {
        "colab": {
          "base_uri": "https://localhost:8080/"
        },
        "id": "p2veBJ_2aWDl",
        "outputId": "7f7f3f5c-6bd6-4ce4-cb3b-163730070f2f"
      },
      "execution_count": 7,
      "outputs": [
        {
          "output_type": "stream",
          "name": "stdout",
          "text": [
            "Requirement already satisfied: tensorflow in /usr/local/lib/python3.10/dist-packages (2.17.1)\n",
            "Requirement already satisfied: foolbox in /usr/local/lib/python3.10/dist-packages (3.3.4)\n",
            "Requirement already satisfied: matplotlib in /usr/local/lib/python3.10/dist-packages (3.8.0)\n",
            "Requirement already satisfied: absl-py>=1.0.0 in /usr/local/lib/python3.10/dist-packages (from tensorflow) (1.4.0)\n",
            "Requirement already satisfied: astunparse>=1.6.0 in /usr/local/lib/python3.10/dist-packages (from tensorflow) (1.6.3)\n",
            "Requirement already satisfied: flatbuffers>=24.3.25 in /usr/local/lib/python3.10/dist-packages (from tensorflow) (24.3.25)\n",
            "Requirement already satisfied: gast!=0.5.0,!=0.5.1,!=0.5.2,>=0.2.1 in /usr/local/lib/python3.10/dist-packages (from tensorflow) (0.6.0)\n",
            "Requirement already satisfied: google-pasta>=0.1.1 in /usr/local/lib/python3.10/dist-packages (from tensorflow) (0.2.0)\n",
            "Requirement already satisfied: h5py>=3.10.0 in /usr/local/lib/python3.10/dist-packages (from tensorflow) (3.12.1)\n",
            "Requirement already satisfied: libclang>=13.0.0 in /usr/local/lib/python3.10/dist-packages (from tensorflow) (18.1.1)\n",
            "Requirement already satisfied: ml-dtypes<0.5.0,>=0.3.1 in /usr/local/lib/python3.10/dist-packages (from tensorflow) (0.4.1)\n",
            "Requirement already satisfied: opt-einsum>=2.3.2 in /usr/local/lib/python3.10/dist-packages (from tensorflow) (3.4.0)\n",
            "Requirement already satisfied: packaging in /usr/local/lib/python3.10/dist-packages (from tensorflow) (24.2)\n",
            "Requirement already satisfied: protobuf!=4.21.0,!=4.21.1,!=4.21.2,!=4.21.3,!=4.21.4,!=4.21.5,<5.0.0dev,>=3.20.3 in /usr/local/lib/python3.10/dist-packages (from tensorflow) (4.25.5)\n",
            "Requirement already satisfied: requests<3,>=2.21.0 in /usr/local/lib/python3.10/dist-packages (from tensorflow) (2.32.3)\n",
            "Requirement already satisfied: setuptools in /usr/local/lib/python3.10/dist-packages (from tensorflow) (75.1.0)\n",
            "Requirement already satisfied: six>=1.12.0 in /usr/local/lib/python3.10/dist-packages (from tensorflow) (1.17.0)\n",
            "Requirement already satisfied: termcolor>=1.1.0 in /usr/local/lib/python3.10/dist-packages (from tensorflow) (2.5.0)\n",
            "Requirement already satisfied: typing-extensions>=3.6.6 in /usr/local/lib/python3.10/dist-packages (from tensorflow) (4.12.2)\n",
            "Requirement already satisfied: wrapt>=1.11.0 in /usr/local/lib/python3.10/dist-packages (from tensorflow) (1.17.0)\n",
            "Requirement already satisfied: grpcio<2.0,>=1.24.3 in /usr/local/lib/python3.10/dist-packages (from tensorflow) (1.68.1)\n",
            "Requirement already satisfied: tensorboard<2.18,>=2.17 in /usr/local/lib/python3.10/dist-packages (from tensorflow) (2.17.1)\n",
            "Requirement already satisfied: keras>=3.2.0 in /usr/local/lib/python3.10/dist-packages (from tensorflow) (3.5.0)\n",
            "Requirement already satisfied: tensorflow-io-gcs-filesystem>=0.23.1 in /usr/local/lib/python3.10/dist-packages (from tensorflow) (0.37.1)\n",
            "Requirement already satisfied: numpy<2.0.0,>=1.23.5 in /usr/local/lib/python3.10/dist-packages (from tensorflow) (1.26.4)\n",
            "Requirement already satisfied: scipy in /usr/local/lib/python3.10/dist-packages (from foolbox) (1.13.1)\n",
            "Requirement already satisfied: eagerpy>=0.30.0 in /usr/local/lib/python3.10/dist-packages (from foolbox) (0.30.0)\n",
            "Requirement already satisfied: GitPython>=3.0.7 in /usr/local/lib/python3.10/dist-packages (from foolbox) (3.1.43)\n",
            "Requirement already satisfied: contourpy>=1.0.1 in /usr/local/lib/python3.10/dist-packages (from matplotlib) (1.3.1)\n",
            "Requirement already satisfied: cycler>=0.10 in /usr/local/lib/python3.10/dist-packages (from matplotlib) (0.12.1)\n",
            "Requirement already satisfied: fonttools>=4.22.0 in /usr/local/lib/python3.10/dist-packages (from matplotlib) (4.55.3)\n",
            "Requirement already satisfied: kiwisolver>=1.0.1 in /usr/local/lib/python3.10/dist-packages (from matplotlib) (1.4.7)\n",
            "Requirement already satisfied: pillow>=6.2.0 in /usr/local/lib/python3.10/dist-packages (from matplotlib) (11.0.0)\n",
            "Requirement already satisfied: pyparsing>=2.3.1 in /usr/local/lib/python3.10/dist-packages (from matplotlib) (3.2.0)\n",
            "Requirement already satisfied: python-dateutil>=2.7 in /usr/local/lib/python3.10/dist-packages (from matplotlib) (2.8.2)\n",
            "Requirement already satisfied: wheel<1.0,>=0.23.0 in /usr/local/lib/python3.10/dist-packages (from astunparse>=1.6.0->tensorflow) (0.45.1)\n",
            "Requirement already satisfied: gitdb<5,>=4.0.1 in /usr/local/lib/python3.10/dist-packages (from GitPython>=3.0.7->foolbox) (4.0.11)\n",
            "Requirement already satisfied: rich in /usr/local/lib/python3.10/dist-packages (from keras>=3.2.0->tensorflow) (13.9.4)\n",
            "Requirement already satisfied: namex in /usr/local/lib/python3.10/dist-packages (from keras>=3.2.0->tensorflow) (0.0.8)\n",
            "Requirement already satisfied: optree in /usr/local/lib/python3.10/dist-packages (from keras>=3.2.0->tensorflow) (0.13.1)\n",
            "Requirement already satisfied: charset-normalizer<4,>=2 in /usr/local/lib/python3.10/dist-packages (from requests<3,>=2.21.0->tensorflow) (3.4.0)\n",
            "Requirement already satisfied: idna<4,>=2.5 in /usr/local/lib/python3.10/dist-packages (from requests<3,>=2.21.0->tensorflow) (3.10)\n",
            "Requirement already satisfied: urllib3<3,>=1.21.1 in /usr/local/lib/python3.10/dist-packages (from requests<3,>=2.21.0->tensorflow) (2.2.3)\n",
            "Requirement already satisfied: certifi>=2017.4.17 in /usr/local/lib/python3.10/dist-packages (from requests<3,>=2.21.0->tensorflow) (2024.12.14)\n",
            "Requirement already satisfied: markdown>=2.6.8 in /usr/local/lib/python3.10/dist-packages (from tensorboard<2.18,>=2.17->tensorflow) (3.7)\n",
            "Requirement already satisfied: tensorboard-data-server<0.8.0,>=0.7.0 in /usr/local/lib/python3.10/dist-packages (from tensorboard<2.18,>=2.17->tensorflow) (0.7.2)\n",
            "Requirement already satisfied: werkzeug>=1.0.1 in /usr/local/lib/python3.10/dist-packages (from tensorboard<2.18,>=2.17->tensorflow) (3.1.3)\n",
            "Requirement already satisfied: smmap<6,>=3.0.1 in /usr/local/lib/python3.10/dist-packages (from gitdb<5,>=4.0.1->GitPython>=3.0.7->foolbox) (5.0.1)\n",
            "Requirement already satisfied: MarkupSafe>=2.1.1 in /usr/local/lib/python3.10/dist-packages (from werkzeug>=1.0.1->tensorboard<2.18,>=2.17->tensorflow) (3.0.2)\n",
            "Requirement already satisfied: markdown-it-py>=2.2.0 in /usr/local/lib/python3.10/dist-packages (from rich->keras>=3.2.0->tensorflow) (3.0.0)\n",
            "Requirement already satisfied: pygments<3.0.0,>=2.13.0 in /usr/local/lib/python3.10/dist-packages (from rich->keras>=3.2.0->tensorflow) (2.18.0)\n",
            "Requirement already satisfied: mdurl~=0.1 in /usr/local/lib/python3.10/dist-packages (from markdown-it-py>=2.2.0->rich->keras>=3.2.0->tensorflow) (0.1.2)\n"
          ]
        }
      ]
    },
    {
      "cell_type": "markdown",
      "source": [
        "Шаг 3:Инициализация Foolbox и выбор изображения для атаки"
      ],
      "metadata": {
        "id": "LC-el5rKae41"
      }
    },
    {
      "cell_type": "code",
      "source": [
        "# Инициализация Foolbox модели\n",
        "fmodel = fb.TensorFlowModel(model, bounds=(0, 1))\n",
        "\n",
        "# Конвертация и выборка\n",
        "image = tf.convert_to_tensor(test_images[45], dtype=tf.float32)[None, ...]\n",
        "label = np.argmax(test_labels[0]) # Получаем индекс класса\n",
        "label = tf.convert_to_tensor(label, dtype=tf.int64) # Конвертируем в тензор\n",
        "\n",
        "# Создание и выполнение Carlini-Wagner атаки\n",
        "attack = fb.attacks.L2CarliniWagnerAttack(steps = 100)\n",
        "adversarial_image = attack(fmodel, image, label[None], epsilons=0.1)\n",
        "\n",
        "# Вывод результатов\n",
        "plt.subplot(1, 2, 1)\n",
        "plt.title(\"Оригинал\")\n",
        "plt.imshow(image[0].numpy(), cmap=\"gray\")\n",
        "plt.axis('off')\n",
        "plt.subplot(1, 2, 2)\n",
        "plt.title(\"CW Attack\")\n",
        "plt.imshow(adversarial_image[0][0].numpy(), cmap=\"gray\")\n",
        "plt.axis('off')\n",
        "plt.show()"
      ],
      "metadata": {
        "colab": {
          "base_uri": "https://localhost:8080/",
          "height": 284
        },
        "id": "cdlEeePTamsM",
        "outputId": "292a952f-b879-45cb-dc98-39f2de8aeab9"
      },
      "execution_count": 8,
      "outputs": [
        {
          "output_type": "display_data",
          "data": {
            "text/plain": [
              "<Figure size 640x480 with 2 Axes>"
            ],
            "image/png": "[encoded data removed]"
          },
          "metadata": {}
        }
      ]
    },
    {
      "cell_type": "markdown",
      "source": [
        "Шаг 3: Оценка модели"
      ],
      "metadata": {
        "id": "SMxUAwgsbQe-"
      }
    },
    {
      "cell_type": "code",
      "source": [
        "adversarial_images = []\n",
        "batch_size = 32\n",
        "\n",
        "# Обработка изображений пакетами\n",
        "for i in range(0, len(test_images) // 10, batch_size):\n",
        "\n",
        "    # Создаем пакет изображений и меток\n",
        "    batch_images = tf.convert_to_tensor(test_images[i:i + batch_size], dtype=tf.float32)\n",
        "    batch_labels = np.argmax(test_labels[i:i + batch_size], axis=1)\n",
        "    batch_labels = tf.convert_to_tensor(batch_labels, dtype=tf.int64)\n",
        "\n",
        "    # Проверка размерности\n",
        "    advs, _, success = attack(fmodel, batch_images, batch_labels, epsilons=0.1)\n",
        "    adversarial_images.append(advs)\n",
        "\n",
        "# Конвертация списка в массив с правильной формой\n",
        "adversarial_images = tf.concat(adversarial_images, axis=0)\n",
        "\n",
        "# Оценка точности модели на противоречивых примерах\n",
        "adversarial_loss, adversarial_acc = model.evaluate(adversarial_images, test_labels[:len(adversarial_images)])\n",
        "print(f'Accuracy on adversarial examples (CW attack): {adversarial_acc}')"
      ],
      "metadata": {
        "colab": {
          "base_uri": "https://localhost:8080/"
        },
        "id": "SJ0O1FCmbW6t",
        "outputId": "f4cf7cca-ba43-43d9-eebe-b7c165ad3cad"
      },
      "execution_count": 9,
      "outputs": [
        {
          "output_type": "stream",
          "name": "stdout",
          "text": [
            "\u001b[1m32/32\u001b[0m \u001b[32m━━━━━━━━━━━━━━━━━━━━\u001b[0m\u001b[37m\u001b[0m \u001b[1m0s\u001b[0m 1ms/step - accuracy: 0.0230 - loss: 1.3381 \n",
            "Accuracy on adversarial examples (CW attack): 0.01953125\n"
          ]
        }
      ]
    },
    {
      "cell_type": "markdown",
      "source": [
        "Шаг 4: Сравнение результатов"
      ],
      "metadata": {
        "id": "Gkum0673bZ8A"
      }
    },
    {
      "cell_type": "markdown",
      "source": [
        "В процессе исследования наблюдается, что точность на стандартных примерах составляет около 97,8%, тогда как на противоречивых она падает до примерно 2,5%. Это исследование демонстрирует, что модель можно легко ввести в заблуждение."
      ],
      "metadata": {
        "id": "8V29W0-vbb1s"
      }
    }
  ]
}
